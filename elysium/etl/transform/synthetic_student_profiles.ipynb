{
 "cells": [
  {
   "cell_type": "code",
   "id": "initial_id",
   "metadata": {
    "collapsed": true,
    "ExecuteTime": {
     "end_time": "2024-07-20T04:42:22.957013Z",
     "start_time": "2024-07-20T04:42:22.601598Z"
    }
   },
   "source": "import pandas as pd",
   "outputs": [],
   "execution_count": 2
  },
  {
   "metadata": {
    "ExecuteTime": {
     "end_time": "2024-07-20T04:42:24.580358Z",
     "start_time": "2024-07-20T04:42:23.981545Z"
    }
   },
   "cell_type": "code",
   "source": "df = pd.read_json('../data/student_profiles.jsonl', lines=True)",
   "id": "5529c1f1124ca6aa",
   "outputs": [],
   "execution_count": 3
  },
  {
   "metadata": {
    "ExecuteTime": {
     "end_time": "2024-07-20T04:44:08.068374Z",
     "start_time": "2024-07-20T04:44:08.026480Z"
    }
   },
   "cell_type": "code",
   "source": [
    "df.columns = df.columns.str.lower()\n",
    "columns = ['name', 'age', 'sex', 'major', 'year', 'gpa', 'hobbies', 'country','state/province']\n",
    "df = df[columns]\n",
    "\n",
    "def generate_id(index):\n",
    "    return f\"id_{index + 1}\"\n",
    "\n",
    "df['id'] = df.index.map(generate_id)\n",
    "df['province'] = df['state/province']\n",
    "df['level'] = df['year']\n",
    "\n",
    "df.drop(columns='year',inplace = True)\n",
    "df.drop(columns='state/province', inplace = True)"
   ],
   "id": "64c7468d671aeeee",
   "outputs": [],
   "execution_count": 6
  },
  {
   "metadata": {
    "ExecuteTime": {
     "end_time": "2024-07-20T04:44:09.398264Z",
     "start_time": "2024-07-20T04:44:09.309873Z"
    }
   },
   "cell_type": "code",
   "source": "df.to_csv('../results/synthetic_student_profiles.csv', index=False)",
   "id": "e588bff3d63ca12a",
   "outputs": [],
   "execution_count": 7
  }
 ],
 "metadata": {
  "kernelspec": {
   "display_name": "Python 3",
   "language": "python",
   "name": "python3"
  },
  "language_info": {
   "codemirror_mode": {
    "name": "ipython",
    "version": 2
   },
   "file_extension": ".py",
   "mimetype": "text/x-python",
   "name": "python",
   "nbconvert_exporter": "python",
   "pygments_lexer": "ipython2",
   "version": "2.7.6"
  }
 },
 "nbformat": 4,
 "nbformat_minor": 5
}
