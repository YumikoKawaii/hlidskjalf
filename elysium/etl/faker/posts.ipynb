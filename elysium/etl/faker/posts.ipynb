{
 "cells": [
  {
   "cell_type": "code",
   "id": "initial_id",
   "metadata": {
    "collapsed": true,
    "ExecuteTime": {
     "end_time": "2024-10-27T14:17:53.786464Z",
     "start_time": "2024-10-27T14:17:53.560627Z"
    }
   },
   "source": [
    "import pandas as pd\n",
    "import random"
   ],
   "outputs": [],
   "execution_count": 1
  },
  {
   "metadata": {
    "ExecuteTime": {
     "end_time": "2024-10-27T14:17:58.137283Z",
     "start_time": "2024-10-27T14:17:58.122205Z"
    }
   },
   "cell_type": "code",
   "source": [
    "accounts_df = pd.read_csv('./data/accounts.csv')\n",
    "account_ids = accounts_df['id'].tolist()"
   ],
   "id": "cda2a4aa55d8061d",
   "outputs": [],
   "execution_count": 2
  },
  {
   "metadata": {
    "ExecuteTime": {
     "end_time": "2024-10-27T14:18:00.064022Z",
     "start_time": "2024-10-27T14:18:00.061246Z"
    }
   },
   "cell_type": "code",
   "source": [
    "def generate_random_content(length=500):\n",
    "    words = [\"lorem\", \"ipsum\", \"dolor\", \"sit\", \"amet\", \"consectetur\", \"adipiscing\", \"elit\", \"sed\", \"do\",\n",
    "             \"eiusmod\", \"tempor\", \"incididunt\", \"ut\", \"labore\", \"et\", \"dolore\", \"magna\", \"aliqua\"]\n",
    "    return ' '.join(random.choices(words, k=length))"
   ],
   "id": "a1537a002931e11b",
   "outputs": [],
   "execution_count": 3
  },
  {
   "metadata": {
    "ExecuteTime": {
     "end_time": "2024-10-27T14:18:01.953181Z",
     "start_time": "2024-10-27T14:18:00.951192Z"
    }
   },
   "cell_type": "code",
   "source": [
    "posts = []\n",
    "for i in range(30000):\n",
    "    post_id = i + 1\n",
    "    author_id = random.choice(account_ids)\n",
    "    content = generate_random_content()    \n",
    "    posts.append((post_id, author_id, content))"
   ],
   "id": "4c5e9dd9a13ec869",
   "outputs": [],
   "execution_count": 4
  },
  {
   "metadata": {
    "ExecuteTime": {
     "end_time": "2024-10-27T14:18:04.105107Z",
     "start_time": "2024-10-27T14:18:02.992845Z"
    }
   },
   "cell_type": "code",
   "source": [
    "posts_df = pd.DataFrame(posts, columns=[\"id\", \"author\", \"content\"])\n",
    "posts_df.to_csv('./data/posts.csv', index=False)"
   ],
   "id": "4c6a1d85fb03e9d2",
   "outputs": [],
   "execution_count": 5
  }
 ],
 "metadata": {
  "kernelspec": {
   "display_name": "Python 3",
   "language": "python",
   "name": "python3"
  },
  "language_info": {
   "codemirror_mode": {
    "name": "ipython",
    "version": 2
   },
   "file_extension": ".py",
   "mimetype": "text/x-python",
   "name": "python",
   "nbconvert_exporter": "python",
   "pygments_lexer": "ipython2",
   "version": "2.7.6"
  }
 },
 "nbformat": 4,
 "nbformat_minor": 5
}
