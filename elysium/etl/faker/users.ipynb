{
 "cells": [
  {
   "cell_type": "code",
   "id": "initial_id",
   "metadata": {
    "collapsed": true,
    "ExecuteTime": {
     "end_time": "2024-10-27T08:21:35.109004Z",
     "start_time": "2024-10-27T08:21:34.721049Z"
    }
   },
   "source": [
    "import pandas as pd\n",
    "import random\n",
    "import string"
   ],
   "outputs": [],
   "execution_count": 1
  },
  {
   "metadata": {
    "ExecuteTime": {
     "end_time": "2024-10-27T08:21:51.551471Z",
     "start_time": "2024-10-27T08:21:51.443106Z"
    }
   },
   "cell_type": "code",
   "source": [
    "accounts_df = pd.read_csv('./data/accounts.csv')\n",
    "account_ids = accounts_df['id'].tolist()"
   ],
   "id": "c8aeadbad0df858d",
   "outputs": [],
   "execution_count": 2
  },
  {
   "metadata": {
    "ExecuteTime": {
     "end_time": "2024-10-27T08:22:00.237919Z",
     "start_time": "2024-10-27T08:22:00.235297Z"
    }
   },
   "cell_type": "code",
   "source": [
    "names = [\"Alice\", \"Bob\", \"Charlie\", \"Daisy\", \"Edward\", \"Fiona\", \"George\", \"Hannah\", \"Ian\", \"Julia\"]\n",
    "workplaces = [\"Tech Corp\", \"Design Studio\", \"Marketing LLC\", \"Finance Inc\", \"Education Co\", \"Health Partners\"]\n",
    "hometowns = [\"New York\", \"San Francisco\", \"Chicago\", \"Boston\", \"Seattle\", \"Austin\", \"Denver\", \"Miami\"]"
   ],
   "id": "7ce828c330c7607f",
   "outputs": [],
   "execution_count": 3
  },
  {
   "metadata": {
    "ExecuteTime": {
     "end_time": "2024-10-27T08:22:17.564934Z",
     "start_time": "2024-10-27T08:22:17.561644Z"
    }
   },
   "cell_type": "code",
   "source": [
    "# Function to generate random alias\n",
    "def generate_random_alias():\n",
    "    return ''.join(random.choices(string.ascii_lowercase, k=8))\n",
    "\n",
    "# Function to generate random avatar URL\n",
    "def generate_random_avatar():\n",
    "    return f\"https://avatars.example.com/{generate_random_alias()}\"\n",
    "\n",
    "# Function to generate random introduction\n",
    "def generate_random_introduction():\n",
    "    intros = [\n",
    "        \"Enthusiastic about tech and coding.\",\n",
    "        \"Loves photography and art.\",\n",
    "        \"Passionate about environmental causes.\",\n",
    "        \"Always exploring new places.\",\n",
    "        \"Fan of sci-fi and fantasy novels.\",\n",
    "    ]\n",
    "    return random.choice(intros)"
   ],
   "id": "bf747d4d5950c798",
   "outputs": [],
   "execution_count": 4
  },
  {
   "metadata": {
    "ExecuteTime": {
     "end_time": "2024-10-27T08:22:27.922842Z",
     "start_time": "2024-10-27T08:22:27.497923Z"
    }
   },
   "cell_type": "code",
   "source": [
    "users = []\n",
    "for i in range(100000):\n",
    "    user_id = account_ids[i]                 # Use account ID as user ID\n",
    "    name = random.choice(names)\n",
    "    alias = generate_random_alias()\n",
    "    avatar = generate_random_avatar()\n",
    "    introduction = generate_random_introduction()\n",
    "    workplace = random.choice(workplaces)\n",
    "    hometown = random.choice(hometowns)\n",
    "    users.append((user_id, name, alias, avatar, introduction, workplace, hometown))"
   ],
   "id": "403e46e41e64fcf",
   "outputs": [],
   "execution_count": 5
  },
  {
   "metadata": {
    "ExecuteTime": {
     "end_time": "2024-10-27T08:23:05.437134Z",
     "start_time": "2024-10-27T08:23:05.173164Z"
    }
   },
   "cell_type": "code",
   "source": [
    "users_df = pd.DataFrame(users, columns=[\"id\", \"name\", \"alias\", \"avatar\", \"introduction\", \"workplace\", \"hometown\"])\n",
    "users_df.to_csv('./data/users.csv', index=False)"
   ],
   "id": "34698d9cf949750d",
   "outputs": [],
   "execution_count": 6
  }
 ],
 "metadata": {
  "kernelspec": {
   "display_name": "Python 3",
   "language": "python",
   "name": "python3"
  },
  "language_info": {
   "codemirror_mode": {
    "name": "ipython",
    "version": 2
   },
   "file_extension": ".py",
   "mimetype": "text/x-python",
   "name": "python",
   "nbconvert_exporter": "python",
   "pygments_lexer": "ipython2",
   "version": "2.7.6"
  }
 },
 "nbformat": 4,
 "nbformat_minor": 5
}
