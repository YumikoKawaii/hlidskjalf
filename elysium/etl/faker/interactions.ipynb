{
 "cells": [
  {
   "cell_type": "code",
   "id": "initial_id",
   "metadata": {
    "collapsed": true,
    "ExecuteTime": {
     "end_time": "2024-10-27T08:10:22.888250Z",
     "start_time": "2024-10-27T08:10:22.555883Z"
    }
   },
   "source": [
    "import pandas as pd\n",
    "import random\n",
    "import uuid"
   ],
   "outputs": [],
   "execution_count": 1
  },
  {
   "metadata": {
    "ExecuteTime": {
     "end_time": "2024-10-27T08:11:05.256346Z",
     "start_time": "2024-10-27T08:11:00.431834Z"
    }
   },
   "cell_type": "code",
   "source": [
    "posts_df = pd.read_csv('./data/posts.csv')\n",
    "accounts_df = pd.read_csv('./data/accounts.csv')\n",
    "\n",
    "post_ids = posts_df['id'].tolist()\n",
    "account_ids = accounts_df['id'].tolist()"
   ],
   "id": "983e77eaffdd9c9b",
   "outputs": [],
   "execution_count": 3
  },
  {
   "metadata": {
    "ExecuteTime": {
     "end_time": "2024-10-27T08:11:19.401916Z",
     "start_time": "2024-10-27T08:11:19.399027Z"
    }
   },
   "cell_type": "code",
   "source": [
    "interaction_types = [\"like\", \"comment\", \"share\", \"reaction\"]\n",
    "\n",
    "# Function to generate random content\n",
    "def generate_random_content(length=20):\n",
    "    words = [\"great\", \"nice\", \"interesting\", \"awesome\", \"love\", \"hate\", \"beautiful\", \"bad\", \"wow\", \"cool\"]\n",
    "    return ' '.join(random.choices(words, k=length))"
   ],
   "id": "e7d67411f791e13d",
   "outputs": [],
   "execution_count": 4
  },
  {
   "metadata": {
    "ExecuteTime": {
     "end_time": "2024-10-27T08:11:51.516698Z",
     "start_time": "2024-10-27T08:11:33.808675Z"
    }
   },
   "cell_type": "code",
   "source": [
    "interactions = []\n",
    "for i in range(5000000):\n",
    "    interaction_id = i + 1\n",
    "    post_id = random.choice(post_ids)         # Select random PostId\n",
    "    author_id = random.choice(account_ids)     # Select random Author\n",
    "    interaction_type = random.choice(interaction_types)  # Random Interaction Type\n",
    "    content = generate_random_content()        # Random Content\n",
    "    interactions.append((interaction_id, post_id, author_id, interaction_type, content))"
   ],
   "id": "b9d7470a3766031b",
   "outputs": [],
   "execution_count": 5
  },
  {
   "metadata": {
    "ExecuteTime": {
     "end_time": "2024-10-27T08:12:23.488949Z",
     "start_time": "2024-10-27T08:12:06.916177Z"
    }
   },
   "cell_type": "code",
   "source": [
    "interactions_df = pd.DataFrame(interactions, columns=[\"id\", \"post_id\", \"author\", \"type\", \"content\"])\n",
    "interactions_df.to_csv('./data/interactions.csv', index=False)"
   ],
   "id": "b8899ec5957dc246",
   "outputs": [],
   "execution_count": 6
  }
 ],
 "metadata": {
  "kernelspec": {
   "display_name": "Python 3",
   "language": "python",
   "name": "python3"
  },
  "language_info": {
   "codemirror_mode": {
    "name": "ipython",
    "version": 2
   },
   "file_extension": ".py",
   "mimetype": "text/x-python",
   "name": "python",
   "nbconvert_exporter": "python",
   "pygments_lexer": "ipython2",
   "version": "2.7.6"
  }
 },
 "nbformat": 4,
 "nbformat_minor": 5
}
