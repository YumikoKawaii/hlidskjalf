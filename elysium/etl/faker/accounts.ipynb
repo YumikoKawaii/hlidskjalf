{
 "cells": [
  {
   "cell_type": "code",
   "id": "initial_id",
   "metadata": {
    "collapsed": true,
    "ExecuteTime": {
     "end_time": "2024-10-27T14:16:22.701219Z",
     "start_time": "2024-10-27T14:16:22.308913Z"
    }
   },
   "source": [
    "import random\n",
    "import string\n",
    "import pandas as pd\n",
    "import uuid"
   ],
   "outputs": [],
   "execution_count": 2
  },
  {
   "metadata": {
    "ExecuteTime": {
     "end_time": "2024-10-27T14:16:23.671909Z",
     "start_time": "2024-10-27T14:16:23.668099Z"
    }
   },
   "cell_type": "code",
   "source": [
    "# Function to generate a random string of given length\n",
    "def generate_random_string(length):\n",
    "    return ''.join(random.choices(string.ascii_lowercase, k=length))\n",
    "\n",
    "# Function to generate a random email in the format <randomstring>@<randomstring>.com\n",
    "def generate_random_email():\n",
    "    local_part = generate_random_string(8)  # Adjust length if needed\n",
    "    domain = generate_random_string(5)      # Adjust length if needed\n",
    "    return f\"{local_part}@{domain}.com\"\n",
    "\n",
    "# Function to generate a random password of given length\n",
    "def generate_random_password(length=16):\n",
    "    return generate_random_string(length)"
   ],
   "id": "629029c2324d7075",
   "outputs": [],
   "execution_count": 3
  },
  {
   "metadata": {
    "ExecuteTime": {
     "end_time": "2024-10-27T14:16:25.565776Z",
     "start_time": "2024-10-27T14:16:25.462079Z"
    }
   },
   "cell_type": "code",
   "source": [
    "unique_emails = set()\n",
    "records = []\n",
    "while len(unique_emails) < 10000:\n",
    "    email = generate_random_email()\n",
    "    if email not in unique_emails:\n",
    "        account_id = str(uuid.uuid4())\n",
    "        unique_emails.add(email)\n",
    "        password = generate_random_password(16)  # 16-character password\n",
    "        records.append((account_id, email, password))\n",
    "\n",
    "# Save the records to a CSV file\n",
    "df = pd.DataFrame(records, columns=[\"id\", \"email\", \"password\"])\n",
    "df.to_csv('./data/accounts.csv', index=False)"
   ],
   "id": "8e04c983a28feb95",
   "outputs": [],
   "execution_count": 4
  },
  {
   "metadata": {},
   "cell_type": "code",
   "outputs": [],
   "execution_count": null,
   "source": "",
   "id": "b57d1a2541301620"
  }
 ],
 "metadata": {
  "kernelspec": {
   "display_name": "Python 3",
   "language": "python",
   "name": "python3"
  },
  "language_info": {
   "codemirror_mode": {
    "name": "ipython",
    "version": 2
   },
   "file_extension": ".py",
   "mimetype": "text/x-python",
   "name": "python",
   "nbconvert_exporter": "python",
   "pygments_lexer": "ipython2",
   "version": "2.7.6"
  }
 },
 "nbformat": 4,
 "nbformat_minor": 5
}
